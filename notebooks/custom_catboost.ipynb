{
 "cells": [
  {
   "cell_type": "code",
   "execution_count": 41,
   "metadata": {},
   "outputs": [],
   "source": [
    "import numpy as np\n",
    "import pandas as pd\n",
    "import polars as pl\n",
    "from category_encoders import CatBoostEncoder\n",
    "from catboost import CatBoostRegressor , Pool, cv\n",
    "from sklearn.tree import DecisionTreeRegressor\n",
    "from sklearn.model_selection import train_test_split\n"
   ]
  },
  {
   "cell_type": "code",
   "execution_count": 42,
   "metadata": {},
   "outputs": [],
   "source": [
    "def train_test_split(dataframe, target_colnames, train_ratio = 0.8):\n",
    "    if type(target_colnames) == str:\n",
    "        target_colnames = [target_colnames]\n",
    "    \n",
    "    assert type(target_colnames) in [str, list]\n",
    "\n",
    "    shuffled_dataset = dataframe.sample(fraction=1.0, shuffle=True)\n",
    "    upper_train_index = int(len(shuffled_dataset) * train_ratio)\n",
    "\n",
    "    train_dataset = shuffled_dataset[:upper_train_index]\n",
    "    test_dataset = shuffled_dataset[upper_train_index:]\n",
    "\n",
    "    X_train, y_train = train_dataset.drop(target_colnames), train_dataset.select(target_colnames)\n",
    "    X_test, y_test = test_dataset.drop(target_colnames), test_dataset.select(target_colnames)\n",
    "\n",
    "    return X_train.to_pandas(), y_train.to_pandas(), X_test.to_pandas(), y_test.to_pandas()\n"
   ]
  },
  {
   "cell_type": "code",
   "execution_count": 43,
   "metadata": {},
   "outputs": [],
   "source": [
    "def ordered_encoding(data, categorical_colnames, target_colname, keep_not_encoded=False):\n",
    "\n",
    "    def alias_label(col_name):\n",
    "        return f\"{col_name}_encoded\" if keep_not_encoded else col_name\n",
    "\n",
    "    selected_columns = categorical_colnames + [target_colname]\n",
    "\n",
    "    data_copy = data.select(selected_columns)\n",
    "    data_copy = data_copy.with_columns(pl.col(categorical_colnames).cast(pl.Utf8))\n",
    "\n",
    "    cum_sums = [pl.col(target_colname).cum_sum().over(col_name).alias(f\"{col_name}_cum_sum\") for col_name in categorical_colnames]\n",
    "    cum_counts = [pl.col(target_colname).cum_count().over(col_name).alias(f\"{col_name}_cum_count\") - 1 for col_name in categorical_colnames]\n",
    "\n",
    "    # Perform the aggregation\n",
    "    temp = data_copy.with_columns(cum_sums + cum_counts)\n",
    "    temp = temp.with_columns([\n",
    "        ((pl.col(f\"{col_name}_cum_sum\") - pl.col(target_colname) + pl.col(target_colname).mean()) \n",
    "         / (pl.col(f\"{col_name}_cum_count\") + 1)).alias(alias_label(col_name)) \n",
    "        for col_name in categorical_colnames])\n",
    "    temp = temp.select([alias_label(col_name) for col_name in categorical_colnames])\n",
    "\n",
    "    if not keep_not_encoded:\n",
    "        return data.drop(categorical_colnames).hstack(temp).select(data.columns)\n",
    "    \n",
    "    return data.hstack(temp)"
   ]
  },
  {
   "cell_type": "code",
   "execution_count": 51,
   "metadata": {},
   "outputs": [],
   "source": [
    "def generate_dataset():\n",
    "    num_samples = 20\n",
    "\n",
    "    data = pd.DataFrame({\n",
    "        'Gender': np.random.choice(['Male', 'Female', 'Other'], num_samples),\n",
    "        'Occupation': np.random.choice(['Doctor', 'Engineer', 'Teacher', 'Artist'], num_samples),\n",
    "        'Age': np.random.randint(20, 60, num_samples),\n",
    "        'Income': np.random.randint(30000, 100000, num_samples),\n",
    "        'Label': np.random.uniform(10000, 40000, num_samples)\n",
    "    })\n",
    "\n",
    "    # Define categorical features\n",
    "    categorical_features = ['Gender', 'Occupation']\n",
    "\n",
    "    features = data.drop(columns=['Label'])\n",
    "    targets = data[['Label']]\n",
    "\n",
    "    # X_train, X_test, y_train, y_test = train_test_split(X, y, test_size = 0.2, random_state=5)\n",
    "\n",
    "    # return X_train, X_test, y_train, y_test\n",
    "\n",
    "    return features, targets, data"
   ]
  },
  {
   "cell_type": "code",
   "execution_count": 52,
   "metadata": {},
   "outputs": [],
   "source": [
    "features, targets, data = generate_dataset()"
   ]
  },
  {
   "cell_type": "code",
   "execution_count": 67,
   "metadata": {},
   "outputs": [],
   "source": [
    "col = [\"Gender\", \"Occupation\"]\n",
    "# encoder = CatBoostEncoder(cols=col ,return_df=True)\n",
    "# encoder.fit(features, targets)\n",
    "# encoder.transform(features, targets)"
   ]
  },
  {
   "cell_type": "code",
   "execution_count": 65,
   "metadata": {},
   "outputs": [
    {
     "data": {
      "text/html": [
       "<div><style>\n",
       ".dataframe > thead > tr,\n",
       ".dataframe > tbody > tr {\n",
       "  text-align: right;\n",
       "  white-space: pre-wrap;\n",
       "}\n",
       "</style>\n",
       "<small>shape: (20, 7)</small><table border=\"1\" class=\"dataframe\"><thead><tr><th>Gender</th><th>Occupation</th><th>Age</th><th>Income</th><th>Label</th><th>Gender_encoded</th><th>Occupation_encoded</th></tr><tr><td>str</td><td>str</td><td>i64</td><td>i64</td><td>f64</td><td>f64</td><td>f64</td></tr></thead><tbody><tr><td>&quot;Male&quot;</td><td>&quot;Engineer&quot;</td><td>43</td><td>60734</td><td>39179.013378</td><td>24043.786427</td><td>24043.786427</td></tr><tr><td>&quot;Female&quot;</td><td>&quot;Teacher&quot;</td><td>32</td><td>83474</td><td>32161.747026</td><td>24043.786427</td><td>24043.786427</td></tr><tr><td>&quot;Female&quot;</td><td>&quot;Engineer&quot;</td><td>46</td><td>61634</td><td>10407.246134</td><td>28102.766726</td><td>31611.399902</td></tr><tr><td>&quot;Female&quot;</td><td>&quot;Doctor&quot;</td><td>53</td><td>47555</td><td>18889.198326</td><td>22204.259862</td><td>24043.786427</td></tr><tr><td>&quot;Other&quot;</td><td>&quot;Engineer&quot;</td><td>26</td><td>35754</td><td>17135.012575</td><td>24043.786427</td><td>24543.348646</td></tr><tr><td>&hellip;</td><td>&hellip;</td><td>&hellip;</td><td>&hellip;</td><td>&hellip;</td><td>&hellip;</td><td>&hellip;</td></tr><tr><td>&quot;Other&quot;</td><td>&quot;Artist&quot;</td><td>30</td><td>56256</td><td>37515.00419</td><td>20038.700911</td><td>20444.52353</td></tr><tr><td>&quot;Male&quot;</td><td>&quot;Doctor&quot;</td><td>26</td><td>97260</td><td>23925.317866</td><td>22576.780042</td><td>22545.83182</td></tr><tr><td>&quot;Female&quot;</td><td>&quot;Teacher&quot;</td><td>56</td><td>98140</td><td>25098.638726</td><td>21014.635365</td><td>22490.327506</td></tr><tr><td>&quot;Other&quot;</td><td>&quot;Engineer&quot;</td><td>52</td><td>68919</td><td>39157.182445</td><td>24407.776731</td><td>21253.170406</td></tr><tr><td>&quot;Female&quot;</td><td>&quot;Engineer&quot;</td><td>20</td><td>93564</td><td>39478.15397</td><td>21525.135785</td><td>23810.886412</td></tr></tbody></table></div>"
      ],
      "text/plain": [
       "shape: (20, 7)\n",
       "┌────────┬────────────┬─────┬────────┬──────────────┬────────────────┬────────────────────┐\n",
       "│ Gender ┆ Occupation ┆ Age ┆ Income ┆ Label        ┆ Gender_encoded ┆ Occupation_encoded │\n",
       "│ ---    ┆ ---        ┆ --- ┆ ---    ┆ ---          ┆ ---            ┆ ---                │\n",
       "│ str    ┆ str        ┆ i64 ┆ i64    ┆ f64          ┆ f64            ┆ f64                │\n",
       "╞════════╪════════════╪═════╪════════╪══════════════╪════════════════╪════════════════════╡\n",
       "│ Male   ┆ Engineer   ┆ 43  ┆ 60734  ┆ 39179.013378 ┆ 24043.786427   ┆ 24043.786427       │\n",
       "│ Female ┆ Teacher    ┆ 32  ┆ 83474  ┆ 32161.747026 ┆ 24043.786427   ┆ 24043.786427       │\n",
       "│ Female ┆ Engineer   ┆ 46  ┆ 61634  ┆ 10407.246134 ┆ 28102.766726   ┆ 31611.399902       │\n",
       "│ Female ┆ Doctor     ┆ 53  ┆ 47555  ┆ 18889.198326 ┆ 22204.259862   ┆ 24043.786427       │\n",
       "│ Other  ┆ Engineer   ┆ 26  ┆ 35754  ┆ 17135.012575 ┆ 24043.786427   ┆ 24543.348646       │\n",
       "│ …      ┆ …          ┆ …   ┆ …      ┆ …            ┆ …              ┆ …                  │\n",
       "│ Other  ┆ Artist     ┆ 30  ┆ 56256  ┆ 37515.00419  ┆ 20038.700911   ┆ 20444.52353        │\n",
       "│ Male   ┆ Doctor     ┆ 26  ┆ 97260  ┆ 23925.317866 ┆ 22576.780042   ┆ 22545.83182        │\n",
       "│ Female ┆ Teacher    ┆ 56  ┆ 98140  ┆ 25098.638726 ┆ 21014.635365   ┆ 22490.327506       │\n",
       "│ Other  ┆ Engineer   ┆ 52  ┆ 68919  ┆ 39157.182445 ┆ 24407.776731   ┆ 21253.170406       │\n",
       "│ Female ┆ Engineer   ┆ 20  ┆ 93564  ┆ 39478.15397  ┆ 21525.135785   ┆ 23810.886412       │\n",
       "└────────┴────────────┴─────┴────────┴──────────────┴────────────────┴────────────────────┘"
      ]
     },
     "execution_count": 65,
     "metadata": {},
     "output_type": "execute_result"
    }
   ],
   "source": [
    "test_data = pl.from_pandas(data)\n",
    "ordered_encoding(test_data, col, \"Label\", keep_not_encoded=True)"
   ]
  },
  {
   "cell_type": "code",
   "execution_count": 66,
   "metadata": {},
   "outputs": [],
   "source": [
    "test_data = ordered_encoding(test_data, col, \"Label\", keep_not_encoded=False)"
   ]
  },
  {
   "cell_type": "code",
   "execution_count": 61,
   "metadata": {},
   "outputs": [],
   "source": [
    "X_train, y_train, X_test, y_test = train_test_split(test_data, \"Label\")\n",
    "train_pool = Pool(X_train, y_train)\n",
    "test_pool = Pool(X_test, y_test)"
   ]
  },
  {
   "cell_type": "code",
   "execution_count": null,
   "metadata": {},
   "outputs": [],
   "source": [
    "# Train CatBoost model\n",
    "model = CatBoostRegressor(iterations=1, loss_function=\"RMSE\")\n",
    "# model.fit(train_dataset)\n",
    "\n",
    "grid = {'iterations': [1],\n",
    "        'learning_rate': [0.03, 0.1, 0.5, 1],\n",
    "        'depth': [2, 4, 6, 8, 10, 16, 32],\n",
    "        'l2_leaf_reg': [0.2, 0.5, 1, 3]}\n",
    "\n",
    "model.grid_search(grid, train_pool, verbose=False)"
   ]
  },
  {
   "cell_type": "code",
   "execution_count": 63,
   "metadata": {},
   "outputs": [
    {
     "name": "stderr",
     "output_type": "stream",
     "text": [
      "python(19299) MallocStackLogging: can't turn off malloc stack logging because it was not enabled.\n"
     ]
    },
    {
     "data": {
      "image/svg+xml": [
       "<?xml version=\"1.0\" encoding=\"UTF-8\" standalone=\"no\"?>\n",
       "<!DOCTYPE svg PUBLIC \"-//W3C//DTD SVG 1.1//EN\"\n",
       " \"http://www.w3.org/Graphics/SVG/1.1/DTD/svg11.dtd\">\n",
       "<!-- Generated by graphviz version 9.0.0 (20230911.1827)\n",
       " -->\n",
       "<!-- Pages: 1 -->\n",
       "<svg width=\"465pt\" height=\"221pt\"\n",
       " viewBox=\"0.00 0.00 464.88 221.00\" xmlns=\"http://www.w3.org/2000/svg\" xmlns:xlink=\"http://www.w3.org/1999/xlink\">\n",
       "<g id=\"graph0\" class=\"graph\" transform=\"scale(1 1) rotate(0) translate(4 217)\">\n",
       "<polygon fill=\"white\" stroke=\"none\" points=\"-4,4 -4,-217 460.88,-217 460.88,4 -4,4\"/>\n",
       "<!-- 0 -->\n",
       "<g id=\"node1\" class=\"node\">\n",
       "<title>0</title>\n",
       "<ellipse fill=\"none\" stroke=\"black\" cx=\"217\" cy=\"-195\" rx=\"91.27\" ry=\"18\"/>\n",
       "<text text-anchor=\"middle\" x=\"217\" y=\"-189.95\" font-family=\"Times,serif\" font-size=\"14.00\">Gender, value&gt;20230</text>\n",
       "</g>\n",
       "<!-- 1 -->\n",
       "<g id=\"node2\" class=\"node\">\n",
       "<title>1</title>\n",
       "<ellipse fill=\"none\" stroke=\"black\" cx=\"135\" cy=\"-106.5\" rx=\"73.36\" ry=\"18\"/>\n",
       "<text text-anchor=\"middle\" x=\"135\" y=\"-101.45\" font-family=\"Times,serif\" font-size=\"14.00\">Age, value&gt;44.5</text>\n",
       "</g>\n",
       "<!-- 0&#45;&gt;1 -->\n",
       "<g id=\"edge1\" class=\"edge\">\n",
       "<title>0&#45;&gt;1</title>\n",
       "<path fill=\"none\" stroke=\"black\" d=\"M200.8,-176.91C188.7,-164.15 172,-146.53 158.44,-132.23\"/>\n",
       "<polygon fill=\"black\" stroke=\"black\" points=\"161.35,-130.21 151.93,-125.36 156.27,-135.02 161.35,-130.21\"/>\n",
       "<text text-anchor=\"middle\" x=\"192.25\" y=\"-145.7\" font-family=\"Times,serif\" font-size=\"14.00\">No</text>\n",
       "</g>\n",
       "<!-- 2 -->\n",
       "<g id=\"node3\" class=\"node\">\n",
       "<title>2</title>\n",
       "<ellipse fill=\"none\" stroke=\"black\" cx=\"300\" cy=\"-106.5\" rx=\"73.36\" ry=\"18\"/>\n",
       "<text text-anchor=\"middle\" x=\"300\" y=\"-101.45\" font-family=\"Times,serif\" font-size=\"14.00\">Age, value&gt;44.5</text>\n",
       "</g>\n",
       "<!-- 0&#45;&gt;2 -->\n",
       "<g id=\"edge2\" class=\"edge\">\n",
       "<title>0&#45;&gt;2</title>\n",
       "<path fill=\"none\" stroke=\"black\" d=\"M233.4,-176.91C245.64,-164.15 262.55,-146.53 276.27,-132.23\"/>\n",
       "<polygon fill=\"black\" stroke=\"black\" points=\"278.47,-134.99 282.87,-125.35 273.42,-130.14 278.47,-134.99\"/>\n",
       "<text text-anchor=\"middle\" x=\"276.12\" y=\"-145.7\" font-family=\"Times,serif\" font-size=\"14.00\">Yes</text>\n",
       "</g>\n",
       "<!-- 3 -->\n",
       "<g id=\"node4\" class=\"node\">\n",
       "<title>3</title>\n",
       "<polygon fill=\"none\" stroke=\"red\" points=\"106,-36 0,-36 0,0 106,0 106,-36\"/>\n",
       "<text text-anchor=\"middle\" x=\"53\" y=\"-12.95\" font-family=\"Times,serif\" font-size=\"14.00\">val = 10022.746</text>\n",
       "</g>\n",
       "<!-- 1&#45;&gt;3 -->\n",
       "<g id=\"edge3\" class=\"edge\">\n",
       "<title>1&#45;&gt;3</title>\n",
       "<path fill=\"none\" stroke=\"black\" d=\"M119.19,-88.82C107.21,-76.18 90.54,-58.6 76.93,-44.24\"/>\n",
       "<polygon fill=\"black\" stroke=\"black\" points=\"79.78,-42.17 70.36,-37.32 74.7,-46.98 79.78,-42.17\"/>\n",
       "<text text-anchor=\"middle\" x=\"110.25\" y=\"-57.2\" font-family=\"Times,serif\" font-size=\"14.00\">No</text>\n",
       "</g>\n",
       "<!-- 4 -->\n",
       "<g id=\"node5\" class=\"node\">\n",
       "<title>4</title>\n",
       "<polygon fill=\"none\" stroke=\"red\" points=\"203.5,-36 124.5,-36 124.5,0 203.5,0 203.5,-36\"/>\n",
       "<text text-anchor=\"middle\" x=\"164\" y=\"-12.95\" font-family=\"Times,serif\" font-size=\"14.00\">val = 0.000</text>\n",
       "</g>\n",
       "<!-- 1&#45;&gt;4 -->\n",
       "<g id=\"edge4\" class=\"edge\">\n",
       "<title>1&#45;&gt;4</title>\n",
       "<path fill=\"none\" stroke=\"black\" d=\"M140.73,-88.41C144.68,-76.64 150.01,-60.73 154.58,-47.11\"/>\n",
       "<polygon fill=\"black\" stroke=\"black\" points=\"157.84,-48.38 157.7,-37.79 151.2,-46.15 157.84,-48.38\"/>\n",
       "<text text-anchor=\"middle\" x=\"163.12\" y=\"-57.2\" font-family=\"Times,serif\" font-size=\"14.00\">Yes</text>\n",
       "</g>\n",
       "<!-- 5 -->\n",
       "<g id=\"node6\" class=\"node\">\n",
       "<title>5</title>\n",
       "<polygon fill=\"none\" stroke=\"red\" points=\"334.62,-36 235.38,-36 235.38,0 334.62,0 334.62,-36\"/>\n",
       "<text text-anchor=\"middle\" x=\"285\" y=\"-12.95\" font-family=\"Times,serif\" font-size=\"14.00\">val = 3285.304</text>\n",
       "</g>\n",
       "<!-- 2&#45;&gt;5 -->\n",
       "<g id=\"edge5\" class=\"edge\">\n",
       "<title>2&#45;&gt;5</title>\n",
       "<path fill=\"none\" stroke=\"black\" d=\"M297.04,-88.41C295.02,-76.76 292.29,-61.05 289.95,-47.52\"/>\n",
       "<polygon fill=\"black\" stroke=\"black\" points=\"293.42,-47.1 288.27,-37.84 286.53,-48.29 293.42,-47.1\"/>\n",
       "<text text-anchor=\"middle\" x=\"302.25\" y=\"-57.2\" font-family=\"Times,serif\" font-size=\"14.00\">No</text>\n",
       "</g>\n",
       "<!-- 6 -->\n",
       "<g id=\"node7\" class=\"node\">\n",
       "<title>6</title>\n",
       "<polygon fill=\"none\" stroke=\"red\" points=\"456.88,-36 353.12,-36 353.12,0 456.88,0 456.88,-36\"/>\n",
       "<text text-anchor=\"middle\" x=\"405\" y=\"-12.95\" font-family=\"Times,serif\" font-size=\"14.00\">val = &#45;3521.323</text>\n",
       "</g>\n",
       "<!-- 2&#45;&gt;6 -->\n",
       "<g id=\"edge6\" class=\"edge\">\n",
       "<title>2&#45;&gt;6</title>\n",
       "<path fill=\"none\" stroke=\"black\" d=\"M320.25,-88.82C335.88,-75.95 357.73,-57.94 375.34,-43.44\"/>\n",
       "<polygon fill=\"black\" stroke=\"black\" points=\"377.44,-46.24 382.93,-37.18 372.99,-40.84 377.44,-46.24\"/>\n",
       "<text text-anchor=\"middle\" x=\"372.12\" y=\"-57.2\" font-family=\"Times,serif\" font-size=\"14.00\">Yes</text>\n",
       "</g>\n",
       "</g>\n",
       "</svg>\n"
      ],
      "text/plain": [
       "<graphviz.graphs.Digraph at 0x28d3e5250>"
      ]
     },
     "execution_count": 63,
     "metadata": {},
     "output_type": "execute_result"
    }
   ],
   "source": [
    "model.plot_tree(tree_idx=0, pool=train_pool)"
   ]
  },
  {
   "cell_type": "code",
   "execution_count": null,
   "metadata": {},
   "outputs": [],
   "source": []
  }
 ],
 "metadata": {
  "kernelspec": {
   "display_name": ".venv",
   "language": "python",
   "name": "python3"
  },
  "language_info": {
   "codemirror_mode": {
    "name": "ipython",
    "version": 3
   },
   "file_extension": ".py",
   "mimetype": "text/x-python",
   "name": "python",
   "nbconvert_exporter": "python",
   "pygments_lexer": "ipython3",
   "version": "3.11.9"
  }
 },
 "nbformat": 4,
 "nbformat_minor": 2
}
